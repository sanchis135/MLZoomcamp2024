{
 "cells": [
  {
   "cell_type": "markdown",
   "metadata": {},
   "source": [
    "# Homework\n",
    "\n",
    "##### Dataset\n",
    "\n",
    "In this homework, we will use the Laptops price dataset from Kaggle.\n",
    "\n",
    "The goal of this homework is to create a regression model for predicting the prices (column 'Final Price')."
   ]
  },
  {
   "cell_type": "code",
   "execution_count": 11,
   "metadata": {},
   "outputs": [],
   "source": [
    "import pandas as pd\n",
    "import numpy as np"
   ]
  },
  {
   "cell_type": "code",
   "execution_count": 12,
   "metadata": {},
   "outputs": [
    {
     "data": {
      "text/html": [
       "<div>\n",
       "<style scoped>\n",
       "    .dataframe tbody tr th:only-of-type {\n",
       "        vertical-align: middle;\n",
       "    }\n",
       "\n",
       "    .dataframe tbody tr th {\n",
       "        vertical-align: top;\n",
       "    }\n",
       "\n",
       "    .dataframe thead th {\n",
       "        text-align: right;\n",
       "    }\n",
       "</style>\n",
       "<table border=\"1\" class=\"dataframe\">\n",
       "  <thead>\n",
       "    <tr style=\"text-align: right;\">\n",
       "      <th></th>\n",
       "      <th>Laptop</th>\n",
       "      <th>Status</th>\n",
       "      <th>Brand</th>\n",
       "      <th>Model</th>\n",
       "      <th>CPU</th>\n",
       "      <th>RAM</th>\n",
       "      <th>Storage</th>\n",
       "      <th>Storage type</th>\n",
       "      <th>GPU</th>\n",
       "      <th>Screen</th>\n",
       "      <th>Touch</th>\n",
       "      <th>Final Price</th>\n",
       "    </tr>\n",
       "  </thead>\n",
       "  <tbody>\n",
       "    <tr>\n",
       "      <th>0</th>\n",
       "      <td>ASUS ExpertBook B1 B1502CBA-EJ0436X Intel Core...</td>\n",
       "      <td>New</td>\n",
       "      <td>Asus</td>\n",
       "      <td>ExpertBook</td>\n",
       "      <td>Intel Core i5</td>\n",
       "      <td>8</td>\n",
       "      <td>512</td>\n",
       "      <td>SSD</td>\n",
       "      <td>NaN</td>\n",
       "      <td>15.6</td>\n",
       "      <td>No</td>\n",
       "      <td>1009.00</td>\n",
       "    </tr>\n",
       "    <tr>\n",
       "      <th>1</th>\n",
       "      <td>Alurin Go Start Intel Celeron N4020/8GB/256GB ...</td>\n",
       "      <td>New</td>\n",
       "      <td>Alurin</td>\n",
       "      <td>Go</td>\n",
       "      <td>Intel Celeron</td>\n",
       "      <td>8</td>\n",
       "      <td>256</td>\n",
       "      <td>SSD</td>\n",
       "      <td>NaN</td>\n",
       "      <td>15.6</td>\n",
       "      <td>No</td>\n",
       "      <td>299.00</td>\n",
       "    </tr>\n",
       "    <tr>\n",
       "      <th>2</th>\n",
       "      <td>ASUS ExpertBook B1 B1502CBA-EJ0424X Intel Core...</td>\n",
       "      <td>New</td>\n",
       "      <td>Asus</td>\n",
       "      <td>ExpertBook</td>\n",
       "      <td>Intel Core i3</td>\n",
       "      <td>8</td>\n",
       "      <td>256</td>\n",
       "      <td>SSD</td>\n",
       "      <td>NaN</td>\n",
       "      <td>15.6</td>\n",
       "      <td>No</td>\n",
       "      <td>789.00</td>\n",
       "    </tr>\n",
       "    <tr>\n",
       "      <th>3</th>\n",
       "      <td>MSI Katana GF66 12UC-082XES Intel Core i7-1270...</td>\n",
       "      <td>New</td>\n",
       "      <td>MSI</td>\n",
       "      <td>Katana</td>\n",
       "      <td>Intel Core i7</td>\n",
       "      <td>16</td>\n",
       "      <td>1000</td>\n",
       "      <td>SSD</td>\n",
       "      <td>RTX 3050</td>\n",
       "      <td>15.6</td>\n",
       "      <td>No</td>\n",
       "      <td>1199.00</td>\n",
       "    </tr>\n",
       "    <tr>\n",
       "      <th>4</th>\n",
       "      <td>HP 15S-FQ5085NS Intel Core i5-1235U/16GB/512GB...</td>\n",
       "      <td>New</td>\n",
       "      <td>HP</td>\n",
       "      <td>15S</td>\n",
       "      <td>Intel Core i5</td>\n",
       "      <td>16</td>\n",
       "      <td>512</td>\n",
       "      <td>SSD</td>\n",
       "      <td>NaN</td>\n",
       "      <td>15.6</td>\n",
       "      <td>No</td>\n",
       "      <td>669.01</td>\n",
       "    </tr>\n",
       "  </tbody>\n",
       "</table>\n",
       "</div>"
      ],
      "text/plain": [
       "                                              Laptop Status   Brand  \\\n",
       "0  ASUS ExpertBook B1 B1502CBA-EJ0436X Intel Core...    New    Asus   \n",
       "1  Alurin Go Start Intel Celeron N4020/8GB/256GB ...    New  Alurin   \n",
       "2  ASUS ExpertBook B1 B1502CBA-EJ0424X Intel Core...    New    Asus   \n",
       "3  MSI Katana GF66 12UC-082XES Intel Core i7-1270...    New     MSI   \n",
       "4  HP 15S-FQ5085NS Intel Core i5-1235U/16GB/512GB...    New      HP   \n",
       "\n",
       "        Model            CPU  RAM  Storage Storage type       GPU  Screen  \\\n",
       "0  ExpertBook  Intel Core i5    8      512          SSD       NaN    15.6   \n",
       "1          Go  Intel Celeron    8      256          SSD       NaN    15.6   \n",
       "2  ExpertBook  Intel Core i3    8      256          SSD       NaN    15.6   \n",
       "3      Katana  Intel Core i7   16     1000          SSD  RTX 3050    15.6   \n",
       "4         15S  Intel Core i5   16      512          SSD       NaN    15.6   \n",
       "\n",
       "  Touch  Final Price  \n",
       "0    No      1009.00  \n",
       "1    No       299.00  \n",
       "2    No       789.00  \n",
       "3    No      1199.00  \n",
       "4    No       669.01  "
      ]
     },
     "execution_count": 12,
     "metadata": {},
     "output_type": "execute_result"
    }
   ],
   "source": [
    "df = pd.read_csv('https://raw.githubusercontent.com/alexeygrigorev/datasets/master/laptops.csv')\n",
    "df.head()"
   ]
  },
  {
   "cell_type": "markdown",
   "metadata": {},
   "source": [
    "First, we'll normalize the names of the columns:"
   ]
  },
  {
   "cell_type": "code",
   "execution_count": 14,
   "metadata": {},
   "outputs": [],
   "source": [
    "df.columns = df.columns.str.lower().str.replace(' ', '_')"
   ]
  },
  {
   "cell_type": "markdown",
   "metadata": {},
   "source": [
    "Now, instead of 'Final Price', we have 'final_price'."
   ]
  },
  {
   "cell_type": "markdown",
   "metadata": {},
   "source": [
    "Next, use only the following columns:\n",
    "- 'ram',\n",
    "- 'storage',\n",
    "- 'screen',\n",
    "- 'final_price'"
   ]
  },
  {
   "cell_type": "code",
   "execution_count": 15,
   "metadata": {},
   "outputs": [],
   "source": [
    "base = ['ram', 'storage', 'screen', 'final_price']\n",
    "df_num = df[base]"
   ]
  },
  {
   "cell_type": "markdown",
   "metadata": {},
   "source": [
    "Look at the final_price variable. Does it have a long tail?"
   ]
  },
  {
   "cell_type": "code",
   "execution_count": 16,
   "metadata": {},
   "outputs": [
    {
     "name": "stdout",
     "output_type": "stream",
     "text": [
      "      final_price\n",
      "2155      2699.99\n",
      "2156      2899.99\n",
      "2157      3399.99\n",
      "2158      1899.99\n",
      "2159      1699.99\n"
     ]
    }
   ],
   "source": [
    "print(df_num[['final_price']].tail())"
   ]
  },
  {
   "cell_type": "markdown",
   "metadata": {},
   "source": [
    "#### Question 1\n",
    "There's one column with missing values. What is it?\n",
    "1) 'ram'\n",
    "2) 'storage'\n",
    "3) **'screen'**\n",
    "4) 'final_price'"
   ]
  },
  {
   "cell_type": "code",
   "execution_count": 17,
   "metadata": {},
   "outputs": [
    {
     "name": "stdout",
     "output_type": "stream",
     "text": [
      "Columns with NaN:  ram            False\n",
      "storage        False\n",
      "screen          True\n",
      "final_price    False\n",
      "dtype: bool\n"
     ]
    }
   ],
   "source": [
    "print(\"Columns with NaN: \", df_num.isnull().any()) "
   ]
  },
  {
   "cell_type": "markdown",
   "metadata": {},
   "source": [
    "#### Question 2\n",
    "What's the median (50% percentile) for variable 'ram'?\n",
    "1) 8\n",
    "2) **16**\n",
    "3) 24\n",
    "4) 32"
   ]
  },
  {
   "cell_type": "code",
   "execution_count": 18,
   "metadata": {},
   "outputs": [
    {
     "name": "stdout",
     "output_type": "stream",
     "text": [
      "16.0\n"
     ]
    }
   ],
   "source": [
    "print(df_num.ram.median())"
   ]
  },
  {
   "cell_type": "markdown",
   "metadata": {},
   "source": [
    "##### Prepare and split the dataset\n",
    "Shuffle the dataset (the filtered one you created above), use seed 42.\n",
    "Split your data in train/val/test sets, with 60%/20%/20% distribution.\n",
    "Use the same code as in the lectures"
   ]
  },
  {
   "cell_type": "code",
   "execution_count": 19,
   "metadata": {},
   "outputs": [],
   "source": [
    "np.random.seed(42)\n",
    "\n",
    "n = len(df_num)\n",
    "\n",
    "n_val = int(0.2 * n)\n",
    "n_test = int(0.2 * n)\n",
    "n_train = n - (n_val + n_test)\n",
    "\n",
    "idx = np.arange(n)\n",
    "np.random.shuffle(idx)\n",
    "\n",
    "df_shuffled = df_num.iloc[idx]\n",
    "\n",
    "df_train = df_shuffled.iloc[:n_train].copy()\n",
    "df_val = df_shuffled.iloc[n_train:n_train+n_val].copy()\n",
    "df_test = df_shuffled.iloc[n_train+n_val:].copy()\n",
    "\n",
    "y_train_orig = df_train.final_price.values\n",
    "y_val_orig = df_val.final_price.values\n",
    "y_test_orig = df_test.final_price.values\n",
    "\n",
    "\n",
    "y_train = np.log1p(df_train.final_price.values)\n",
    "y_val = np.log1p(df_val.final_price.values)\n",
    "y_test = np.log1p(df_test.final_price.values)\n",
    "\n",
    "df_train_def = df_train.drop(columns=['final_price'])\n",
    "df_val_def = df_val.drop(columns=['final_price'])\n",
    "df_test_def = df_test.drop(columns=['final_price'])"
   ]
  },
  {
   "cell_type": "markdown",
   "metadata": {},
   "source": [
    "#### Question 3\n",
    "- We need to deal with missing values for the column from Q1.\n",
    "- We have two options: fill it with 0 or with the mean of this variable.\n",
    "- Try both options. For each, train a linear regression model without regularization using the code from the lessons.\n",
    "- For computing the mean, use the training only!\n",
    "- Use the validation dataset to evaluate the models and compare the RMSE of each option.\n",
    "- Round the RMSE scores to 2 decimal digits using round(score, 2)\n",
    "\n",
    "Which option gives better RMSE?\n",
    "1) With 0\n",
    "2) With mean\n",
    "3) **Both are equally good**"
   ]
  },
  {
   "cell_type": "code",
   "execution_count": 20,
   "metadata": {},
   "outputs": [
    {
     "name": "stdout",
     "output_type": "stream",
     "text": [
      "===== fillna with mean =====\n",
      "rmse train 0.45\n",
      "rmse validation 0.43\n",
      "=========================\n",
      "===== fillna with 0 =====\n",
      "rmse train 0.45\n",
      "rmse validation 0.43\n",
      "=========================\n"
     ]
    }
   ],
   "source": [
    "train_mean = df_train_def.mean(axis=0)\n",
    "screen_mean = train_mean['screen']\n",
    "\n",
    "\n",
    "def train_linear_regression(X, y):\n",
    "    ones = np.ones(X.shape[0])\n",
    "    X = np.column_stack([ones, X])\n",
    "\n",
    "    XTX = X.T.dot(X)\n",
    "    XTX_inv = np.linalg.inv(XTX)\n",
    "    w = XTX_inv.dot(X.T).dot(y)\n",
    "    \n",
    "    return w[0], w[1:]\n",
    "\n",
    "def prepare_X(df, fillable):\n",
    "    df_num = df.fillna(fillable)\n",
    "    X = df_num.values\n",
    "    return X\n",
    "\n",
    "def rmse(y, y_pred):\n",
    "    error = y_pred - y\n",
    "    mse = (error ** 2).mean()\n",
    "    return np.sqrt(mse)\n",
    "\n",
    "print('===== fillna with mean =====')\n",
    "X_train = prepare_X(df_train_def,screen_mean )\n",
    "w_0, w = train_linear_regression(X_train, y_train)\n",
    "\n",
    "y_pred = w_0 + X_train.dot(w)\n",
    "\n",
    "print('rmse train', round(rmse(y_train, y_pred),2))\n",
    "\n",
    "X_val = prepare_X(df_val_def, screen_mean)\n",
    "y_pred_val = w_0 + X_val.dot(w)\n",
    "\n",
    "print('rmse validation', round(rmse(y_val, y_pred_val),2))\n",
    "print('=========================')\n",
    "\n",
    "print('===== fillna with 0 =====')\n",
    "X_train = prepare_X(df_train_def,0 )\n",
    "w_0, w = train_linear_regression(X_train, y_train)\n",
    "\n",
    "y_pred = w_0 + X_train.dot(w)\n",
    "\n",
    "print('rmse train', round(rmse(y_train, y_pred),2))\n",
    "\n",
    "X_val = prepare_X(df_val_def, 0)\n",
    "y_pred_val = w_0 + X_val.dot(w)\n",
    "\n",
    "print('rmse validation', round(rmse(y_val, y_pred_val),2))\n",
    "print('=========================')"
   ]
  },
  {
   "cell_type": "markdown",
   "metadata": {},
   "source": [
    "#### Question 4\n",
    "- Now let's train a regularized linear regression.\n",
    "- For this question, fill the NAs with 0.\n",
    "- Try different values of r from this list: [0, 0.01, 0.1, 1, 5, 10, 100].\n",
    "- Use RMSE to evaluate the model on the validation dataset.\n",
    "- Round the RMSE scores to 2 decimal digits.\n",
    "\n",
    "Which r gives the best RMSE? If there are multiple options, select the smallest r.\n",
    "1) 0\n",
    "2) **0.01**\n",
    "3) 1\n",
    "4) 10\n",
    "5) 100"
   ]
  },
  {
   "cell_type": "code",
   "execution_count": 23,
   "metadata": {},
   "outputs": [
    {
     "name": "stdout",
     "output_type": "stream",
     "text": [
      "     0 0.4288635315474407\n",
      "  0.01 0.4288516360534068\n",
      "   0.1 0.42877560097076367\n",
      "     1 0.43059329897434\n",
      "     5 0.46320952575805846\n",
      "    10 0.5075657769236878\n",
      "   100 0.6735026061725873\n"
     ]
    }
   ],
   "source": [
    "def train_linear_regression_reg(X, y, r=0.0):\n",
    "    ones = np.ones(X.shape[0])\n",
    "    X = np.column_stack([ones, X])\n",
    "\n",
    "    XTX = X.T.dot(X)\n",
    "    reg = r * np.eye(XTX.shape[0])\n",
    "    XTX = XTX + reg\n",
    "\n",
    "    XTX_inv = np.linalg.inv(XTX)\n",
    "    w = XTX_inv.dot(X.T).dot(y)\n",
    "    \n",
    "    return w[0], w[1:]\n",
    "\n",
    "\n",
    "w_0, w = train_linear_regression_reg(X_train, y_train)\n",
    "\n",
    "y_pred = w_0 + X_train.dot(w)\n",
    "\n",
    "\n",
    "X_train = prepare_X(df_train_def,0 )\n",
    "X_val = prepare_X(df_val_def,0)\n",
    "\n",
    "for r in [0, 0.01, 0.1, 1, 5, 10, 100]:\n",
    "    w_0, w = train_linear_regression_reg(X_train, y_train, r=r)\n",
    "    y_pred = w_0 + X_val.dot(w)\n",
    "    #print('%6s' %r, round(rmse(y_val, y_pred),2))\n",
    "    print('%6s' %r, rmse(y_val, y_pred))"
   ]
  },
  {
   "cell_type": "markdown",
   "metadata": {},
   "source": [
    "#### Question 5\n",
    "- We used seed 42 for splitting the data. Let's find out how selecting the seed influences our score.\n",
    "- Try different seed values: [0, 1, 2, 3, 4, 5, 6, 7, 8, 9].\n",
    "- For each seed, do the train/validation/test split with 60%/20%/20% distribution.\n",
    "- Fill the missing values with 0 and train a model without regularization.\n",
    "- For each seed, evaluate the model on the validation dataset and collect the RMSE scores.\n",
    "- What's the standard deviation of all the scores? To compute the standard deviation, use np.std.\n",
    "- Round the result to 3 decimal digits (round(std, 3))\n",
    "\n",
    "What's the value of std?\n",
    "1) 19.176\n",
    "2) 29.176\n",
    "3) 39.176\n",
    "4) 49.176\n",
    "\n",
    "Note: Standard deviation shows how different the values are. If it's low, then all values are approximately the same. If it's high, the values are different. If standard deviation of scores is low, then our model is stable."
   ]
  },
  {
   "cell_type": "code",
   "execution_count": 24,
   "metadata": {},
   "outputs": [
    {
     "name": "stdout",
     "output_type": "stream",
     "text": [
      "rmse validation 0.43\n",
      "std dev at  0 :  0.171\n",
      "[0.43004216 1.         1.         1.         1.         1.\n",
      " 1.         1.         1.         1.        ]\n",
      "=========================\n",
      "rmse validation 0.4521\n",
      "std dev at  1 :  0.224\n",
      "[0.43004216 0.45207945 1.         1.         1.         1.\n",
      " 1.         1.         1.         1.        ]\n",
      "=========================\n",
      "rmse validation 0.4463\n",
      "std dev at  2 :  0.255\n",
      "[0.43004216 0.45207945 0.44626256 1.         1.         1.\n",
      " 1.         1.         1.         1.        ]\n",
      "=========================\n",
      "rmse validation 0.4465\n",
      "std dev at  3 :  0.273\n",
      "[0.43004216 0.45207945 0.44626256 0.44645156 1.         1.\n",
      " 1.         1.         1.         1.        ]\n",
      "=========================\n",
      "rmse validation 0.42\n",
      "std dev at  4 :  0.281\n",
      "[0.43004216 0.45207945 0.44626256 0.44645156 0.41998054 1.\n",
      " 1.         1.         1.         1.        ]\n",
      "=========================\n",
      "rmse validation 0.4255\n",
      "std dev at  5 :  0.276\n",
      "[0.43004216 0.45207945 0.44626256 0.44645156 0.41998054 0.42545763\n",
      " 1.         1.         1.         1.        ]\n",
      "=========================\n",
      "rmse validation 0.4488\n",
      "std dev at  6 :  0.258\n",
      "[0.43004216 0.45207945 0.44626256 0.44645156 0.41998054 0.42545763\n",
      " 0.44883229 1.         1.         1.        ]\n",
      "=========================\n",
      "rmse validation 0.4309\n",
      "std dev at  7 :  0.225\n",
      "[0.43004216 0.45207945 0.44626256 0.44645156 0.41998054 0.42545763\n",
      " 0.44883229 0.43091599 1.         1.        ]\n",
      "=========================\n",
      "rmse validation 0.4429\n",
      "std dev at  8 :  0.169\n",
      "[0.43004216 0.45207945 0.44626256 0.44645156 0.41998054 0.42545763\n",
      " 0.44883229 0.43091599 0.44288492 1.        ]\n",
      "=========================\n",
      "rmse validation 0.4084\n",
      "std dev at  9 :  0.014\n",
      "[0.43004216 0.45207945 0.44626256 0.44645156 0.41998054 0.42545763\n",
      " 0.44883229 0.43091599 0.44288492 0.40840334]\n",
      "=========================\n"
     ]
    }
   ],
   "source": [
    "base = ['ram', 'storage', 'screen', 'final_price']\n",
    "\n",
    "df_num = df[base]\n",
    "\n",
    "rmse_value = np.ones(10)\n",
    "\n",
    "for s in [0, 1, 2, 3, 4, 5, 6, 7, 8, 9]:\n",
    "\n",
    "    np.random.seed(s)\n",
    "\n",
    "    n = len(df_num)\n",
    "\n",
    "    n_val = int(0.2 * n)\n",
    "    n_test = int(0.2 * n)\n",
    "    n_train = n - (n_val + n_test)\n",
    "\n",
    "    idx = np.arange(n)\n",
    "    np.random.shuffle(idx)\n",
    "\n",
    "    df_shuffled = df_num.iloc[idx]\n",
    "\n",
    "    df_train = df_shuffled.iloc[:n_train].copy()\n",
    "    df_val = df_shuffled.iloc[n_train:n_train+n_val].copy()\n",
    "    df_test = df_shuffled.iloc[n_train+n_val:].copy()\n",
    "\n",
    "    y_train_orig = df_train.final_price.values\n",
    "    y_val_orig = df_val.final_price.values\n",
    "    y_test_orig = df_test.final_price.values\n",
    "\n",
    "    y_train = np.log1p(df_train.final_price.values)\n",
    "    y_val = np.log1p(df_val.final_price.values)\n",
    "    y_test = np.log1p(df_test.final_price.values)\n",
    "\n",
    "    df_train_def = df_train.drop(columns=['final_price'])\n",
    "    df_val_def = df_val.drop(columns=['final_price'])\n",
    "    df_test_def = df_test.drop(columns=['final_price'])\n",
    "\n",
    "\n",
    "\n",
    "    X_train = prepare_X(df_train_def,0 )\n",
    "    w_0, w = train_linear_regression(X_train, y_train)\n",
    "    y_pred = w_0 + X_train.dot(w)\n",
    "\n",
    "\n",
    "    X_val = prepare_X(df_val_def, 0)\n",
    "    y_pred_val = w_0 + X_val.dot(w)\n",
    "    print('rmse validation', round(rmse(y_val, y_pred_val),4))\n",
    "    \n",
    "    rmse_value[s]=rmse(y_val, y_pred_val)\n",
    "    standard_dev =round(np.std(rmse_value),3)\n",
    "    \n",
    "    print('std dev at ',s,': ',standard_dev)\n",
    "    print(rmse_value)\n",
    "    print('=========================')"
   ]
  },
  {
   "cell_type": "markdown",
   "metadata": {},
   "source": [
    "#### Question 6\n",
    "- Split the dataset like previously, use seed 9.\n",
    "- Combine train and validation datasets.\n",
    "- Fill the missing values with 0 and train a model with r=0.001.\n",
    "\n",
    "What's the RMSE on the test dataset?\n",
    "1) 598.60\n",
    "2) 608.60\n",
    "3) 618.60\n",
    "4) 628.60"
   ]
  },
  {
   "cell_type": "code",
   "execution_count": 27,
   "metadata": {},
   "outputs": [
    {
     "name": "stdout",
     "output_type": "stream",
     "text": [
      "rmse (test) 0.4553\n"
     ]
    }
   ],
   "source": [
    "np.random.seed(9)\n",
    "\n",
    "n = len(df_num)\n",
    "\n",
    "n_val = int(0.2 * n)\n",
    "n_test = int(0.2 * n)\n",
    "n_train = n - (n_val + n_test)\n",
    "\n",
    "idx = np.arange(n)\n",
    "np.random.shuffle(idx)\n",
    "\n",
    "df_shuffled = df_num.iloc[idx]\n",
    "\n",
    "df_train = df_shuffled.iloc[:n_train].copy()\n",
    "df_val = df_shuffled.iloc[n_train:n_train+n_val].copy()\n",
    "df_test = df_shuffled.iloc[n_train+n_val:].copy()\n",
    "\n",
    "y_train_orig = df_train.final_price.values\n",
    "y_val_orig = df_val.final_price.values\n",
    "y_test_orig = df_test.final_price.values\n",
    "\n",
    "y_train = np.log1p(df_train.final_price.values)\n",
    "y_val = np.log1p(df_val.final_price.values)\n",
    "y_test = np.log1p(df_test.final_price.values)\n",
    "\n",
    "df_train_def = df_train.drop(columns=['final_price'])\n",
    "df_val_def = df_val.drop(columns=['final_price'])\n",
    "df_test_def = df_test.drop(columns=['final_price'])\n",
    "\n",
    "    \n",
    "df_full_train = pd.concat([df_train_def,df_val_def])\n",
    "y_full_train = np.concatenate([y_train,y_val])\n",
    "    \n",
    "X_train = prepare_X(df_full_train,0)\n",
    "w_0, w = train_linear_regression_reg(X_train, y_full_train, r=0.001)\n",
    "\n",
    "X_test = prepare_X(df_test_def,0)\n",
    "y_pred = w_0 + X_test.dot(w)\n",
    "\n",
    "    \n",
    "print('rmse (test)', round(rmse(y_test, y_pred),4))\n"
   ]
  }
 ],
 "metadata": {
  "kernelspec": {
   "display_name": "Python 3",
   "language": "python",
   "name": "python3"
  },
  "language_info": {
   "codemirror_mode": {
    "name": "ipython",
    "version": 3
   },
   "file_extension": ".py",
   "mimetype": "text/x-python",
   "name": "python",
   "nbconvert_exporter": "python",
   "pygments_lexer": "ipython3",
   "version": "3.12.3"
  }
 },
 "nbformat": 4,
 "nbformat_minor": 2
}
